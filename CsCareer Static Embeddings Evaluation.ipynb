{
 "cells": [
  {
   "cell_type": "code",
   "execution_count": 2,
   "metadata": {},
   "outputs": [],
   "source": [
    "import pandas as pd\n",
    "import numpy as np\n",
    "import os\n",
    "from nltk.corpus import stopwords\n",
    "from gensim.models import KeyedVectors\n",
    "import csv\n",
    "import statsmodels.formula.api as smf\n",
    "import pickle"
   ]
  },
  {
   "cell_type": "code",
   "execution_count": 109,
   "metadata": {},
   "outputs": [
    {
     "name": "stdout",
     "output_type": "stream",
     "text": [
      "321\n"
     ]
    }
   ],
   "source": [
    " # Load in trained vectors and vocab count that has word tokens as keys and their count as values\n",
    "def load_vectors_and_vocab(vectors_path, vocab_path):\n",
    "    vectors = KeyedVectors.load(vectors_path)\n",
    "    vocab_count = pickle.load( open( vocab_path, \"rb\" ) )\n",
    "    return vectors, vocab_count \n",
    "\n",
    "def read_from_txt(filename):\n",
    "    result = []\n",
    "    with open(filename, 'r') as file:\n",
    "        for line in file:\n",
    "            result.append(line.strip())\n",
    "    return result\n",
    "\n",
    "data_path = \"cscareerquestions.corpus/\"\n",
    "man_words =  ['man', 'he', 'him', 'hes', 'his', 'himself', 'boy', 'male', 'men', 'boys', 'males']\n",
    "woman_words = ['woman', 'she', 'shes', 'her', 'hers', 'herself', 'girl', 'female', 'women','girls', 'females']\n",
    "combined = man_words + woman_words\n",
    "adjectives_list = set(read_from_txt('adjectives_garg.txt') + read_from_txt('adjectives_princeton.txt'))\n",
    "personal_list = ['qualified', 'under qualified', 'unqualified']\n",
    "competence_adjectives = read_from_txt('adjectives_intelligencegeneral.txt')\n",
    "vocab = read_from_txt(os.path.join(data_path, 'RedditVocab.txt'))\n",
    "vectors, vocab_count = load_vectors_and_vocab('cscareerquestions.corpus/trainedVectors.wv', \"vocab_count.pkl\")\n",
    "all_words = combined + list(adjectives_list) + competence_adjectives + [\"indian\", \"american\", \"chinese\", \"mexican\"] + [\"black\", \"african american\", \"white\", \"caucasian\", \"asian\", \"latino\", \"hispanic\"]\n",
    "all_words = set(all_words)"
   ]
  },
  {
   "cell_type": "code",
   "execution_count": 112,
   "metadata": {},
   "outputs": [
    {
     "name": "stdout",
     "output_type": "stream",
     "text": [
      "['precocious', 'resourceful', 'inquisitive', 'sagacious', 'inventive', 'astute', 'adaptable', 'reflective', 'discerning', 'intuitive', 'inquiring', 'judicious', 'analytical', 'luminous', 'venerable', 'imaginative', 'shrewd', 'thoughtful', 'sage', 'smart', 'ingenious', 'clever', 'brilliant', 'logical', 'intelligent', 'apt', 'genius', 'wise']\n"
     ]
    }
   ],
   "source": [
    "print(competence_adjectives)"
   ]
  },
  {
   "cell_type": "code",
   "execution_count": 110,
   "metadata": {},
   "outputs": [],
   "source": [
    "with open('all_words_list.pkl', 'wb') as fp:\n",
    "    pickle.dump(all_words, fp)"
   ]
  },
  {
   "cell_type": "code",
   "execution_count": 57,
   "metadata": {},
   "outputs": [],
   "source": [
    "def calculate_scores_binary(group_vector_1, group_vector_2, neutral_vector, vocab_count):\n",
    "    scores = {}\n",
    "    for word in neutral_vector:\n",
    "        if vocab_count[word] > 200:\n",
    "            gv_1_avg = np.mean(vectors.distances(word, group_vector_1))\n",
    "            gv_2_avg = np.mean(vectors.distances(word, group_vector_2))\n",
    "            scores[word] = [gv_1_avg, gv_2_avg, gv_1_avg - gv_2_avg, vocab_count[word]]\n",
    "    return scores\n",
    "\n",
    "def n_similarity_comp(group_lists, neutral_words):\n",
    "    neutral_words_filtered = [w for w in neutral_words if vocab_count[w] > 200]\n",
    "    result = []\n",
    "    for group_list in group_lists:\n",
    "        sim = vectors.n_similarity(neutral_words_filtered, group_list)\n",
    "        print(group_list[0], \"similarity: \", sim )\n",
    "        result.append([group_list[0], sim])\n",
    "    return pd.DataFrame(result,\n",
    "                       columns = [\"group\", \"similarity\"]).sort_values(by=[\"similarity\"])\n"
   ]
  },
  {
   "cell_type": "markdown",
   "metadata": {},
   "source": [
    "## Competence Adjectives Similarity with each different subgroups"
   ]
  },
  {
   "cell_type": "markdown",
   "metadata": {},
   "source": [
    "We take a list of adjectives that describe competence (taken from garg et al (2018)) and compture the similarity between the list of competence adjectives and lists corresponding to different demographic groups."
   ]
  },
  {
   "cell_type": "code",
   "execution_count": 42,
   "metadata": {},
   "outputs": [
    {
     "name": "stdout",
     "output_type": "stream",
     "text": [
      "black similarity:  0.37054795\n",
      "white similarity:  0.43030035\n",
      "asian similarity:  0.3809257\n",
      "latino similarity:  0.34390327\n"
     ]
    }
   ],
   "source": [
    "competence_ethnicity_sim_df = n_similarity_comp([[\"black\", \"african american\"], [\"white\", \"caucasian\"], [\"asian\"],\n",
    "                                                [\"latino\", \"hispanic\"]], competence_adjectives)"
   ]
  },
  {
   "cell_type": "code",
   "execution_count": 44,
   "metadata": {},
   "outputs": [
    {
     "name": "stdout",
     "output_type": "stream",
     "text": [
      "indian similarity:  0.2803402\n",
      "american similarity:  0.36643845\n",
      "chinese similarity:  0.32325757\n",
      "mexican similarity:  0.29896948\n"
     ]
    }
   ],
   "source": [
    "competence_nationality_sim_df = n_similarity_comp([[\"indian\"], [\"american\"], [\"chinese\"], [\"mexican\"]], competence_adjectives)"
   ]
  },
  {
   "cell_type": "code",
   "execution_count": 62,
   "metadata": {},
   "outputs": [
    {
     "name": "stdout",
     "output_type": "stream",
     "text": [
      "man similarity:  0.5231689\n",
      "woman similarity:  0.44216868\n"
     ]
    }
   ],
   "source": [
    "competence_gender_sim_df = n_similarity_comp([man_words, woman_words], competence_adjectives)"
   ]
  },
  {
   "cell_type": "code",
   "execution_count": 53,
   "metadata": {},
   "outputs": [
    {
     "data": {
      "text/plain": [
       "<AxesSubplot:title={'center':'Similarity score between ethnic/racial groups and competence adjectives'}, xlabel='group', ylabel='n_similarity score'>"
      ]
     },
     "execution_count": 53,
     "metadata": {},
     "output_type": "execute_result"
    },
    {
     "data": {
      "image/png": "[encoded data removed]",
      "text/plain": [
       "<Figure size 432x288 with 1 Axes>"
      ]
     },
     "metadata": {
      "needs_background": "light"
     },
     "output_type": "display_data"
    }
   ],
   "source": [
    "competence_ethnicity_sim_df.plot(x = \"group\", y = \"similarity\", kind='bar',ylabel=\"n_similarity score\", \n",
    "                                 legend=False, title = \"Similarity score between ethnic/racial groups and competence adjectives\")"
   ]
  },
  {
   "cell_type": "code",
   "execution_count": 55,
   "metadata": {},
   "outputs": [
    {
     "data": {
      "text/plain": [
       "<AxesSubplot:title={'center':'Similarity score between nationality groups and competence adjectives'}, xlabel='group', ylabel='n_similarity score'>"
      ]
     },
     "execution_count": 55,
     "metadata": {},
     "output_type": "execute_result"
    },
    {
     "data": {
      "image/png": "[encoded data removed]",
      "text/plain": [
       "<Figure size 432x288 with 1 Axes>"
      ]
     },
     "metadata": {
      "needs_background": "light"
     },
     "output_type": "display_data"
    }
   ],
   "source": [
    "competence_nationality_sim_df.plot(x = \"group\", y = \"similarity\", kind='bar', ylabel=\"n_similarity score\", \n",
    "                                   legend=False,  title = \"Similarity score between nationality groups and competence adjectives\")"
   ]
  },
  {
   "cell_type": "code",
   "execution_count": 63,
   "metadata": {},
   "outputs": [
    {
     "data": {
      "text/plain": [
       "<AxesSubplot:title={'center':'Similarity score between gender groups and competence adjectives'}, xlabel='group', ylabel='n_similarity score'>"
      ]
     },
     "execution_count": 63,
     "metadata": {},
     "output_type": "execute_result"
    },
    {
     "data": {
      "image/png": "[encoded data removed]",
      "text/plain": [
       "<Figure size 432x288 with 1 Axes>"
      ]
     },
     "metadata": {
      "needs_background": "light"
     },
     "output_type": "display_data"
    }
   ],
   "source": [
    "competence_gender_sim_df.plot(x = \"group\", y = \"similarity\", kind='bar', ylabel=\"n_similarity score\", \n",
    "                                   legend=False,  title = \"Similarity score between gender groups and competence adjectives\")"
   ]
  },
  {
   "cell_type": "markdown",
   "metadata": {},
   "source": [
    "## Qualitative analysis looking at which words are most associated with each group"
   ]
  },
  {
   "cell_type": "markdown",
   "metadata": {},
   "source": [
    "Small note: above we were dealing with similarity so a higher value means the vectors are closer together. Here we are dealing with distance, so lower numbers mean closer together."
   ]
  },
  {
   "cell_type": "code",
   "execution_count": 92,
   "metadata": {},
   "outputs": [],
   "source": [
    "woman_man_competence = calculate_scores_binary(woman_words, man_words, competence_adjectives, vocab_count)\n",
    "woman_man_adjectives = calculate_scores_binary(woman_words, man_words, adjectives_list, vocab_count)\n"
   ]
  },
  {
   "cell_type": "code",
   "execution_count": 93,
   "metadata": {},
   "outputs": [
    {
     "data": {
      "text/html": [
       "<div>\n",
       "<style scoped>\n",
       "    .dataframe tbody tr th:only-of-type {\n",
       "        vertical-align: middle;\n",
       "    }\n",
       "\n",
       "    .dataframe tbody tr th {\n",
       "        vertical-align: top;\n",
       "    }\n",
       "\n",
       "    .dataframe thead th {\n",
       "        text-align: right;\n",
       "    }\n",
       "</style>\n",
       "<table border=\"1\" class=\"dataframe\">\n",
       "  <thead>\n",
       "    <tr style=\"text-align: right;\">\n",
       "      <th></th>\n",
       "      <th>woman</th>\n",
       "      <th>man</th>\n",
       "      <th>differences</th>\n",
       "      <th>count</th>\n",
       "    </tr>\n",
       "  </thead>\n",
       "  <tbody>\n",
       "    <tr>\n",
       "      <th>analytical</th>\n",
       "      <td>0.774786</td>\n",
       "      <td>0.820419</td>\n",
       "      <td>-0.045633</td>\n",
       "      <td>632</td>\n",
       "    </tr>\n",
       "    <tr>\n",
       "      <th>logical</th>\n",
       "      <td>0.770491</td>\n",
       "      <td>0.804486</td>\n",
       "      <td>-0.033994</td>\n",
       "      <td>1852</td>\n",
       "    </tr>\n",
       "    <tr>\n",
       "      <th>intelligent</th>\n",
       "      <td>0.662874</td>\n",
       "      <td>0.680497</td>\n",
       "      <td>-0.017623</td>\n",
       "      <td>1806</td>\n",
       "    </tr>\n",
       "    <tr>\n",
       "      <th>intuitive</th>\n",
       "      <td>0.849713</td>\n",
       "      <td>0.860474</td>\n",
       "      <td>-0.010761</td>\n",
       "      <td>728</td>\n",
       "    </tr>\n",
       "    <tr>\n",
       "      <th>thoughtful</th>\n",
       "      <td>0.766519</td>\n",
       "      <td>0.776476</td>\n",
       "      <td>-0.009957</td>\n",
       "      <td>342</td>\n",
       "    </tr>\n",
       "    <tr>\n",
       "      <th>wise</th>\n",
       "      <td>0.812067</td>\n",
       "      <td>0.798295</td>\n",
       "      <td>0.013772</td>\n",
       "      <td>6376</td>\n",
       "    </tr>\n",
       "    <tr>\n",
       "      <th>reflective</th>\n",
       "      <td>0.784770</td>\n",
       "      <td>0.753545</td>\n",
       "      <td>0.031225</td>\n",
       "      <td>288</td>\n",
       "    </tr>\n",
       "    <tr>\n",
       "      <th>smart</th>\n",
       "      <td>0.699999</td>\n",
       "      <td>0.664104</td>\n",
       "      <td>0.035895</td>\n",
       "      <td>12438</td>\n",
       "    </tr>\n",
       "    <tr>\n",
       "      <th>brilliant</th>\n",
       "      <td>0.702289</td>\n",
       "      <td>0.663380</td>\n",
       "      <td>0.038909</td>\n",
       "      <td>1734</td>\n",
       "    </tr>\n",
       "    <tr>\n",
       "      <th>genius</th>\n",
       "      <td>0.686439</td>\n",
       "      <td>0.635412</td>\n",
       "      <td>0.051027</td>\n",
       "      <td>1689</td>\n",
       "    </tr>\n",
       "    <tr>\n",
       "      <th>clever</th>\n",
       "      <td>0.811014</td>\n",
       "      <td>0.758709</td>\n",
       "      <td>0.052305</td>\n",
       "      <td>1057</td>\n",
       "    </tr>\n",
       "    <tr>\n",
       "      <th>apt</th>\n",
       "      <td>0.916735</td>\n",
       "      <td>0.861367</td>\n",
       "      <td>0.055369</td>\n",
       "      <td>466</td>\n",
       "    </tr>\n",
       "  </tbody>\n",
       "</table>\n",
       "</div>"
      ],
      "text/plain": [
       "                woman       man  differences  count\n",
       "analytical   0.774786  0.820419    -0.045633    632\n",
       "logical      0.770491  0.804486    -0.033994   1852\n",
       "intelligent  0.662874  0.680497    -0.017623   1806\n",
       "intuitive    0.849713  0.860474    -0.010761    728\n",
       "thoughtful   0.766519  0.776476    -0.009957    342\n",
       "wise         0.812067  0.798295     0.013772   6376\n",
       "reflective   0.784770  0.753545     0.031225    288\n",
       "smart        0.699999  0.664104     0.035895  12438\n",
       "brilliant    0.702289  0.663380     0.038909   1734\n",
       "genius       0.686439  0.635412     0.051027   1689\n",
       "clever       0.811014  0.758709     0.052305   1057\n",
       "apt          0.916735  0.861367     0.055369    466"
      ]
     },
     "execution_count": 93,
     "metadata": {},
     "output_type": "execute_result"
    }
   ],
   "source": [
    "pd.DataFrame.from_dict(woman_man_competence, orient='index', \n",
    "                       columns = [\"woman\", \"man\", \"differences\", \"count\"]).sort_values(by=[\"differences\"])"
   ]
  },
  {
   "cell_type": "markdown",
   "metadata": {},
   "source": [
    "Hard to draw lots of conclusions, but notice that men are more closer to words that are like \"elon musk types\" vs women are more like hard workers. Their competence is described in different ways."
   ]
  },
  {
   "cell_type": "code",
   "execution_count": 117,
   "metadata": {},
   "outputs": [
    {
     "name": "stdout",
     "output_type": "stream",
     "text": [
      "(140, 4)\n",
      "                 woman       man  differences  count\n",
      "outgoing      0.572297  0.668435    -0.096138    336\n",
      "artistic      0.692267  0.784679    -0.092412    310\n",
      "natural       0.710444  0.783501    -0.073057   2452\n",
      "shy           0.619530  0.686455    -0.066925    937\n",
      "passionate    0.655552  0.722422    -0.066870   7745\n",
      "attractive    0.727565  0.792345    -0.064780   2470\n",
      "enthusiastic  0.603383  0.666267    -0.062884   1174\n",
      "formal        0.773732  0.835927    -0.062195   4766\n",
      "anxious       0.664430  0.726592    -0.062162   1572\n",
      "sociable      0.607388  0.664899    -0.057510    302\n",
      "               woman       man  differences  count\n",
      "slow        0.857880  0.810188     0.047692   6739\n",
      "calm        0.704353  0.654876     0.049477   1194\n",
      "dirty       0.801085  0.748832     0.052253    907\n",
      "clever      0.811014  0.758709     0.052305   1057\n",
      "idealistic  0.711010  0.658417     0.052594    204\n",
      "cynical     0.698745  0.643116     0.055629    479\n",
      "greedy      0.821401  0.754221     0.067180    858\n",
      "naive       0.753406  0.684174     0.069233   1964\n",
      "stupid      0.766850  0.696511     0.070340  10499\n",
      "realistic   0.843703  0.769287     0.074416   3504\n"
     ]
    }
   ],
   "source": [
    "woman_man_adjectives_df = pd.DataFrame.from_dict(woman_man_adjectives, orient='index', \n",
    "                       columns = [\"woman\", \"man\", \"differences\", \"count\"]).sort_values(by=[\"differences\"])\n",
    "print(woman_man_adjectives_df.shape)\n",
    "print(woman_man_adjectives_df.head(10))\n",
    "print(woman_man_adjectives_df.tail(10))"
   ]
  },
  {
   "cell_type": "markdown",
   "metadata": {},
   "source": [
    "Not sure what the takeaway is here. Seems like women are often described in terms of their sociability."
   ]
  },
  {
   "cell_type": "markdown",
   "metadata": {},
   "source": [
    "## Valence, Arousan, Dominance Analysis"
   ]
  },
  {
   "cell_type": "code",
   "execution_count": 82,
   "metadata": {},
   "outputs": [],
   "source": [
    "def read_NRC_lexicon(vocab_count):\n",
    "    vad_lines = []\n",
    "    with open(\"NRC-VAD-Lexicon-Aug2018Release/NRC-VAD-Lexicon.txt\", 'r') as file:\n",
    "        for i, line in enumerate(file):\n",
    "            splitted = line.strip().split('\\t')\n",
    "            if i == 0:\n",
    "#                 splitted.append('count')\n",
    "                vad_lines.append(splitted)\n",
    "            else:\n",
    "                word = splitted[0]\n",
    "                count = vocab_count[word]\n",
    "                if count > 200:\n",
    "#                     splitted.append(count)\n",
    "                    vad_lines.append(splitted)\n",
    "    return vad_lines[1:], vad_lines[0]\n",
    "\n",
    "vad_lines, cols = read_NRC_lexicon(vocab_count)\n",
    "vad_df = pd.DataFrame(vad_lines, columns=cols).set_index('Word')\n",
    "vad_df = vad_df.apply(pd.to_numeric)\n"
   ]
  },
  {
   "cell_type": "code",
   "execution_count": 101,
   "metadata": {},
   "outputs": [],
   "source": [
    "gender_adjectives_vad_df = vad_df.merge(woman_man_adjectives_df, right_index=True, left_on='Word')"
   ]
  },
  {
   "cell_type": "code",
   "execution_count": 102,
   "metadata": {},
   "outputs": [
    {
     "data": {
      "text/html": [
       "<div>\n",
       "<style scoped>\n",
       "    .dataframe tbody tr th:only-of-type {\n",
       "        vertical-align: middle;\n",
       "    }\n",
       "\n",
       "    .dataframe tbody tr th {\n",
       "        vertical-align: top;\n",
       "    }\n",
       "\n",
       "    .dataframe thead th {\n",
       "        text-align: right;\n",
       "    }\n",
       "</style>\n",
       "<table border=\"1\" class=\"dataframe\">\n",
       "  <thead>\n",
       "    <tr style=\"text-align: right;\">\n",
       "      <th></th>\n",
       "      <th>Valence</th>\n",
       "      <th>Arousal</th>\n",
       "      <th>Dominance</th>\n",
       "      <th>woman</th>\n",
       "      <th>man</th>\n",
       "      <th>differences</th>\n",
       "      <th>count</th>\n",
       "    </tr>\n",
       "    <tr>\n",
       "      <th>Word</th>\n",
       "      <th></th>\n",
       "      <th></th>\n",
       "      <th></th>\n",
       "      <th></th>\n",
       "      <th></th>\n",
       "      <th></th>\n",
       "      <th></th>\n",
       "    </tr>\n",
       "  </thead>\n",
       "  <tbody>\n",
       "    <tr>\n",
       "      <th>active</th>\n",
       "      <td>0.847</td>\n",
       "      <td>0.730</td>\n",
       "      <td>0.731</td>\n",
       "      <td>0.819154</td>\n",
       "      <td>0.860454</td>\n",
       "      <td>-0.041300</td>\n",
       "      <td>3741</td>\n",
       "    </tr>\n",
       "    <tr>\n",
       "      <th>aggressive</th>\n",
       "      <td>0.125</td>\n",
       "      <td>0.949</td>\n",
       "      <td>0.648</td>\n",
       "      <td>0.723188</td>\n",
       "      <td>0.718826</td>\n",
       "      <td>0.004362</td>\n",
       "      <td>1325</td>\n",
       "    </tr>\n",
       "    <tr>\n",
       "      <th>alert</th>\n",
       "      <td>0.479</td>\n",
       "      <td>0.820</td>\n",
       "      <td>0.648</td>\n",
       "      <td>0.786735</td>\n",
       "      <td>0.801628</td>\n",
       "      <td>-0.014893</td>\n",
       "      <td>434</td>\n",
       "    </tr>\n",
       "    <tr>\n",
       "      <th>ambitious</th>\n",
       "      <td>0.484</td>\n",
       "      <td>0.821</td>\n",
       "      <td>0.717</td>\n",
       "      <td>0.721730</td>\n",
       "      <td>0.695682</td>\n",
       "      <td>0.026049</td>\n",
       "      <td>1484</td>\n",
       "    </tr>\n",
       "    <tr>\n",
       "      <th>anxious</th>\n",
       "      <td>0.281</td>\n",
       "      <td>0.875</td>\n",
       "      <td>0.434</td>\n",
       "      <td>0.664430</td>\n",
       "      <td>0.726592</td>\n",
       "      <td>-0.062162</td>\n",
       "      <td>1572</td>\n",
       "    </tr>\n",
       "    <tr>\n",
       "      <th>...</th>\n",
       "      <td>...</td>\n",
       "      <td>...</td>\n",
       "      <td>...</td>\n",
       "      <td>...</td>\n",
       "      <td>...</td>\n",
       "      <td>...</td>\n",
       "      <td>...</td>\n",
       "    </tr>\n",
       "    <tr>\n",
       "      <th>warm</th>\n",
       "      <td>0.760</td>\n",
       "      <td>0.312</td>\n",
       "      <td>0.585</td>\n",
       "      <td>0.836986</td>\n",
       "      <td>0.821485</td>\n",
       "      <td>0.015500</td>\n",
       "      <td>904</td>\n",
       "    </tr>\n",
       "    <tr>\n",
       "      <th>wary</th>\n",
       "      <td>0.510</td>\n",
       "      <td>0.343</td>\n",
       "      <td>0.535</td>\n",
       "      <td>0.802537</td>\n",
       "      <td>0.827867</td>\n",
       "      <td>-0.025330</td>\n",
       "      <td>1238</td>\n",
       "    </tr>\n",
       "    <tr>\n",
       "      <th>weak</th>\n",
       "      <td>0.180</td>\n",
       "      <td>0.241</td>\n",
       "      <td>0.045</td>\n",
       "      <td>0.794459</td>\n",
       "      <td>0.797752</td>\n",
       "      <td>-0.003294</td>\n",
       "      <td>3344</td>\n",
       "    </tr>\n",
       "    <tr>\n",
       "      <th>wise</th>\n",
       "      <td>0.878</td>\n",
       "      <td>0.250</td>\n",
       "      <td>0.861</td>\n",
       "      <td>0.812067</td>\n",
       "      <td>0.798295</td>\n",
       "      <td>0.013772</td>\n",
       "      <td>6376</td>\n",
       "    </tr>\n",
       "    <tr>\n",
       "      <th>worrying</th>\n",
       "      <td>0.047</td>\n",
       "      <td>0.750</td>\n",
       "      <td>0.296</td>\n",
       "      <td>0.788269</td>\n",
       "      <td>0.780517</td>\n",
       "      <td>0.007752</td>\n",
       "      <td>2507</td>\n",
       "    </tr>\n",
       "  </tbody>\n",
       "</table>\n",
       "<p>137 rows × 7 columns</p>\n",
       "</div>"
      ],
      "text/plain": [
       "            Valence  Arousal  Dominance     woman       man  differences  \\\n",
       "Word                                                                       \n",
       "active        0.847    0.730      0.731  0.819154  0.860454    -0.041300   \n",
       "aggressive    0.125    0.949      0.648  0.723188  0.718826     0.004362   \n",
       "alert         0.479    0.820      0.648  0.786735  0.801628    -0.014893   \n",
       "ambitious     0.484    0.821      0.717  0.721730  0.695682     0.026049   \n",
       "anxious       0.281    0.875      0.434  0.664430  0.726592    -0.062162   \n",
       "...             ...      ...        ...       ...       ...          ...   \n",
       "warm          0.760    0.312      0.585  0.836986  0.821485     0.015500   \n",
       "wary          0.510    0.343      0.535  0.802537  0.827867    -0.025330   \n",
       "weak          0.180    0.241      0.045  0.794459  0.797752    -0.003294   \n",
       "wise          0.878    0.250      0.861  0.812067  0.798295     0.013772   \n",
       "worrying      0.047    0.750      0.296  0.788269  0.780517     0.007752   \n",
       "\n",
       "            count  \n",
       "Word               \n",
       "active       3741  \n",
       "aggressive   1325  \n",
       "alert         434  \n",
       "ambitious    1484  \n",
       "anxious      1572  \n",
       "...           ...  \n",
       "warm          904  \n",
       "wary         1238  \n",
       "weak         3344  \n",
       "wise         6376  \n",
       "worrying     2507  \n",
       "\n",
       "[137 rows x 7 columns]"
      ]
     },
     "execution_count": 102,
     "metadata": {},
     "output_type": "execute_result"
    }
   ],
   "source": [
    "gender_adjectives_vad_df"
   ]
  },
  {
   "cell_type": "code",
   "execution_count": 120,
   "metadata": {},
   "outputs": [
    {
     "name": "stdout",
     "output_type": "stream",
     "text": [
      "                            OLS Regression Results                            \n",
      "==============================================================================\n",
      "Dep. Variable:            differences   R-squared:                       0.096\n",
      "Model:                            OLS   Adj. R-squared:                  0.076\n",
      "Method:                 Least Squares   F-statistic:                     4.709\n",
      "Date:                Fri, 04 Jun 2021   Prob (F-statistic):            0.00371\n",
      "Time:                        09:51:30   Log-Likelihood:                 274.97\n",
      "No. Observations:                 137   AIC:                            -541.9\n",
      "Df Residuals:                     133   BIC:                            -530.3\n",
      "Df Model:                           3                                         \n",
      "Covariance Type:            nonrobust                                         \n",
      "==============================================================================\n",
      "                 coef    std err          t      P>|t|      [0.025      0.975]\n",
      "------------------------------------------------------------------------------\n",
      "Intercept      0.0342      0.011      3.154      0.002       0.013       0.056\n",
      "Valence       -0.0514      0.017     -3.052      0.003      -0.085      -0.018\n",
      "Arousal       -0.0558      0.017     -3.207      0.002      -0.090      -0.021\n",
      "Dominance      0.0353      0.021      1.691      0.093      -0.006       0.077\n",
      "==============================================================================\n",
      "Omnibus:                        0.761   Durbin-Watson:                   2.105\n",
      "Prob(Omnibus):                  0.684   Jarque-Bera (JB):                0.675\n",
      "Skew:                          -0.171   Prob(JB):                        0.714\n",
      "Kurtosis:                       2.964   Cond. No.                         14.1\n",
      "==============================================================================\n",
      "\n",
      "Notes:\n",
      "[1] Standard Errors assume that the covariance matrix of the errors is correctly specified.\n"
     ]
    }
   ],
   "source": [
    "gender_adjectives_vad_regression = smf.ols(\"\"\"differences ~ Valence + Arousal + Dominance\"\"\", data=gender_adjectives_vad_df).fit()\n",
    "print(gender_adjectives_vad_regression.summary())\n"
   ]
  },
  {
   "cell_type": "markdown",
   "metadata": {},
   "source": [
    "So it seems that valence and arousal are more associated with women than dominance (though dominance is p=.09 so slightly above \"significance\")."
   ]
  },
  {
   "cell_type": "code",
   "execution_count": 124,
   "metadata": {},
   "outputs": [
    {
     "name": "stdout",
     "output_type": "stream",
     "text": [
      "                            OLS Regression Results                            \n",
      "==============================================================================\n",
      "Dep. Variable:            differences   R-squared:                       0.125\n",
      "Model:                            OLS   Adj. R-squared:                  0.078\n",
      "Method:                 Least Squares   F-statistic:                     2.644\n",
      "Date:                Fri, 04 Jun 2021   Prob (F-statistic):             0.0138\n",
      "Time:                        09:52:39   Log-Likelihood:                 277.24\n",
      "No. Observations:                 137   AIC:                            -538.5\n",
      "Df Residuals:                     129   BIC:                            -515.1\n",
      "Df Model:                           7                                         \n",
      "Covariance Type:            nonrobust                                         \n",
      "=============================================================================================\n",
      "                                coef    std err          t      P>|t|      [0.025      0.975]\n",
      "---------------------------------------------------------------------------------------------\n",
      "Intercept                     0.0529      0.037      1.438      0.153      -0.020       0.126\n",
      "Valence                      -0.0655      0.069     -0.948      0.345      -0.202       0.071\n",
      "Arousal                      -0.0505      0.071     -0.707      0.481      -0.192       0.091\n",
      "Valence:Arousal              -0.0829      0.159     -0.520      0.604      -0.398       0.232\n",
      "Dominance                    -0.0813      0.096     -0.850      0.397      -0.271       0.108\n",
      "Valence:Dominance             0.1436      0.140      1.025      0.307      -0.134       0.421\n",
      "Arousal:Dominance             0.1140      0.159      0.716      0.476      -0.201       0.429\n",
      "Valence:Arousal:Dominance    -0.0620      0.274     -0.226      0.822      -0.605       0.481\n",
      "==============================================================================\n",
      "Omnibus:                        0.684   Durbin-Watson:                   2.189\n",
      "Prob(Omnibus):                  0.710   Jarque-Bera (JB):                0.648\n",
      "Skew:                          -0.165   Prob(JB):                        0.723\n",
      "Kurtosis:                       2.930   Cond. No.                         204.\n",
      "==============================================================================\n",
      "\n",
      "Notes:\n",
      "[1] Standard Errors assume that the covariance matrix of the errors is correctly specified.\n"
     ]
    }
   ],
   "source": [
    "gender_adjectives_vad_regression_joint = smf.ols(\"\"\"differences ~ Valence * Arousal * Dominance\"\"\", data=gender_adjectives_vad_df).fit()\n",
    "print(gender_adjectives_vad_regression_joint.summary())"
   ]
  },
  {
   "cell_type": "markdown",
   "metadata": {},
   "source": [
    "#### "
   ]
  }
 ],
 "metadata": {
  "kernelspec": {
   "display_name": "Python 3",
   "language": "python",
   "name": "python3"
  },
  "language_info": {
   "codemirror_mode": {
    "name": "ipython",
    "version": 3
   },
   "file_extension": ".py",
   "mimetype": "text/x-python",
   "name": "python",
   "nbconvert_exporter": "python",
   "pygments_lexer": "ipython3",
   "version": "3.8.5"
  }
 },
 "nbformat": 4,
 "nbformat_minor": 4
}
